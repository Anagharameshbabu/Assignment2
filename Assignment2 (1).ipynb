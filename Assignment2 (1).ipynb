{
  "nbformat": 4,
  "nbformat_minor": 0,
  "metadata": {
    "colab": {
      "provenance": []
    },
    "kernelspec": {
      "name": "python3",
      "display_name": "Python 3"
    },
    "language_info": {
      "name": "python"
    }
  },
  "cells": [
    {
      "cell_type": "code",
      "execution_count": 2,
      "metadata": {
        "id": "-xCZnoEqEGAu"
      },
      "outputs": [],
      "source": [
        "import math\n"
      ]
    },
    {
      "cell_type": "code",
      "source": [
        "#Question 1\n",
        "radius = float(input(\"enter the radius of the circle:\"))\n",
        "area = math.pi*(radius**2)\n",
        "print(f\"the area of the circle is:{area:2f}\")"
      ],
      "metadata": {
        "colab": {
          "base_uri": "https://localhost:8080/"
        },
        "id": "IjvGmP4xETeo",
        "outputId": "349ff2bb-3873-449e-83e5-e4bf556c0c32"
      },
      "execution_count": 3,
      "outputs": [
        {
          "output_type": "stream",
          "name": "stdout",
          "text": [
            "enter the radius of the circle:3\n",
            "the area of the circle is:28.274334\n"
          ]
        }
      ]
    },
    {
      "cell_type": "code",
      "source": [
        "from os import name\n",
        "#Question 2"
      ],
      "metadata": {
        "id": "SD5P9p3QFDPp"
      },
      "execution_count": 4,
      "outputs": []
    },
    {
      "cell_type": "code",
      "source": [
        "name = input(\"enter the student's name:\")\n",
        "roll_number = input(\"enter the student's roll number:\")\n",
        "mark = input(\"enter the student's mark:\")\n",
        "print(\"Student Details:\")\n",
        "print(f\"Name:{name}\")\n",
        "print(f\"Roll Number:{roll_number}\")\n",
        "print(f\"Mark:{mark}\")"
      ],
      "metadata": {
        "colab": {
          "base_uri": "https://localhost:8080/"
        },
        "id": "wdi5JSiFGNzq",
        "outputId": "cb283f8f-07e6-4957-b8ba-f79aec537ab6"
      },
      "execution_count": 5,
      "outputs": [
        {
          "output_type": "stream",
          "name": "stdout",
          "text": [
            "enter the student's name:anisha\n",
            "enter the student's roll number:21\n",
            "enter the student's mark:78\n",
            "Student Details:\n",
            "Name:anisha\n",
            "Roll Number:21\n",
            "Mark:78\n"
          ]
        }
      ]
    },
    {
      "cell_type": "code",
      "source": [
        "#Question 3"
      ],
      "metadata": {
        "id": "327lJPOxRc54"
      },
      "execution_count": 6,
      "outputs": []
    },
    {
      "cell_type": "code",
      "source": [
        "def find_largest(numbers):\n",
        "  largest=max(numbers)\n",
        "  return largest\n",
        "numbers = [12,3,47,10]\n",
        "largest_number=find_largest(numbers)\n",
        "print(f\"{largest_number}is the largest\")"
      ],
      "metadata": {
        "id": "4IVxSk5IKZYj",
        "colab": {
          "base_uri": "https://localhost:8080/"
        },
        "outputId": "0e2a9506-d9d7-4b4d-9653-f1a179c00de6"
      },
      "execution_count": 7,
      "outputs": [
        {
          "output_type": "stream",
          "name": "stdout",
          "text": [
            "47is the largest\n"
          ]
        }
      ]
    },
    {
      "cell_type": "code",
      "source": [
        "previous_num=0\n",
        "for current_num in range(1,11):\n",
        "  print(f\"Current Number{current_num}Previous Number {previous_num}Sum:{current_num+previous_num}\")\n",
        "  previous_num=current_num"
      ],
      "metadata": {
        "colab": {
          "base_uri": "https://localhost:8080/"
        },
        "id": "fM4fvg4tgqR7",
        "outputId": "0ec2ec9e-ccbe-4aa2-eb3e-eb1736d2461f"
      },
      "execution_count": 8,
      "outputs": [
        {
          "output_type": "stream",
          "name": "stdout",
          "text": [
            "Current Number1Previous Number 0Sum:1\n",
            "Current Number2Previous Number 1Sum:3\n",
            "Current Number3Previous Number 2Sum:5\n",
            "Current Number4Previous Number 3Sum:7\n",
            "Current Number5Previous Number 4Sum:9\n",
            "Current Number6Previous Number 5Sum:11\n",
            "Current Number7Previous Number 6Sum:13\n",
            "Current Number8Previous Number 7Sum:15\n",
            "Current Number9Previous Number 8Sum:17\n",
            "Current Number10Previous Number 9Sum:19\n"
          ]
        }
      ]
    },
    {
      "cell_type": "code",
      "source": [
        "#Question 5"
      ],
      "metadata": {
        "id": "1GuupndRikB7"
      },
      "execution_count": 9,
      "outputs": []
    },
    {
      "cell_type": "code",
      "source": [
        "numbers=[10,20,33,46,55]\n",
        "for num in numbers:\n",
        "  if num % 5 == 0:\n",
        "    print(num)"
      ],
      "metadata": {
        "colab": {
          "base_uri": "https://localhost:8080/"
        },
        "id": "lGMjHpAXiypR",
        "outputId": "861e0dcf-fc2b-4571-f75c-ca4374957726"
      },
      "execution_count": 10,
      "outputs": [
        {
          "output_type": "stream",
          "name": "stdout",
          "text": [
            "10\n",
            "20\n",
            "55\n"
          ]
        }
      ]
    },
    {
      "cell_type": "code",
      "source": [
        "#Question 6"
      ],
      "metadata": {
        "id": "qaIG-wFMjeFZ"
      },
      "execution_count": 11,
      "outputs": []
    },
    {
      "cell_type": "code",
      "source": [
        "def is_prime(n):\n",
        "  if n<=1:\n",
        "    return False\n",
        "  for i in range(2,int(n**0.5)+1):\n",
        "    if n % i == 0:\n",
        "      return False\n",
        "  return True\n",
        "num = int(input(\"Enter the number:\"))\n",
        "if is_prime(num):\n",
        "  print(f\"{num}is a prime number.\")\n",
        "else:\n",
        "  print(f\"{num}is not a prime number.\")\n",
        "\n"
      ],
      "metadata": {
        "colab": {
          "base_uri": "https://localhost:8080/"
        },
        "id": "ih8wbInzkE_3",
        "outputId": "0d5612fb-d1fe-44ee-fc7a-6b0640796ee7"
      },
      "execution_count": 12,
      "outputs": [
        {
          "output_type": "stream",
          "name": "stdout",
          "text": [
            "Enter the number:3\n",
            "3is a prime number.\n"
          ]
        }
      ]
    },
    {
      "cell_type": "code",
      "source": [
        "#Question 7"
      ],
      "metadata": {
        "id": "unkKlqHZlnRQ"
      },
      "execution_count": 13,
      "outputs": []
    },
    {
      "cell_type": "code",
      "source": [
        "def reverse_list(input_list):\n",
        "  reversed_list =[]\n",
        "  for i in range(len(input_list)-1,-1,-1):\n",
        "    reversed_list.append(input_list[i])\n",
        "  return reversed_list\n",
        "input_list = [10,40,30,70]\n",
        "reversed_list=reverse_list(input_list)\n",
        "print(reversed_list)"
      ],
      "metadata": {
        "colab": {
          "base_uri": "https://localhost:8080/"
        },
        "id": "eZQDXxjUlz-h",
        "outputId": "630eae58-9e77-44b1-9965-b2740a86a779"
      },
      "execution_count": 14,
      "outputs": [
        {
          "output_type": "stream",
          "name": "stdout",
          "text": [
            "[70, 30, 40, 10]\n"
          ]
        }
      ]
    },
    {
      "cell_type": "code",
      "source": [
        "#Question 8"
      ],
      "metadata": {
        "id": "wTxJkZkGnd7p"
      },
      "execution_count": 15,
      "outputs": []
    },
    {
      "cell_type": "code",
      "source": [
        "for i in range(1,5):\n",
        "  print(\"*\"*i)"
      ],
      "metadata": {
        "colab": {
          "base_uri": "https://localhost:8080/"
        },
        "id": "xoud8Qa1pMNt",
        "outputId": "329fb9a2-bb2c-4321-da5c-d85fbbbe571f"
      },
      "execution_count": 16,
      "outputs": [
        {
          "output_type": "stream",
          "name": "stdout",
          "text": [
            "*\n",
            "**\n",
            "***\n",
            "****\n"
          ]
        }
      ]
    },
    {
      "cell_type": "code",
      "source": [
        "#Question 9"
      ],
      "metadata": {
        "id": "1USXDtRapfM3"
      },
      "execution_count": 17,
      "outputs": []
    },
    {
      "cell_type": "code",
      "source": [
        "def find_max(a,b,c):\n",
        "  if a >= b and a >= c:\n",
        "    return a\n",
        "  elif b >= a and b >=c:\n",
        "    return b\n",
        "  else:\n",
        "    return c\n",
        "a=int(input(\"Enter first number:\"))\n",
        "b=int(input(\"Enter second number:\"))\n",
        "c=int(input(\"Enter third number:\"))\n",
        "max_num=find_max(a,b,c)\n",
        "print(\"Maximum number is:\",max_num)"
      ],
      "metadata": {
        "colab": {
          "base_uri": "https://localhost:8080/"
        },
        "id": "QJfjQWl1pjPb",
        "outputId": "04fc93fd-90c5-4d29-b32c-89177d96afd6"
      },
      "execution_count": 18,
      "outputs": [
        {
          "output_type": "stream",
          "name": "stdout",
          "text": [
            "Enter first number:2\n",
            "Enter second number:4\n",
            "Enter third number:6\n",
            "Maximum number is: 6\n"
          ]
        }
      ]
    },
    {
      "cell_type": "code",
      "source": [
        "#Question 10"
      ],
      "metadata": {
        "id": "ABE2BelsrGUE"
      },
      "execution_count": 19,
      "outputs": []
    },
    {
      "cell_type": "code",
      "source": [
        "for i in range(1,6):\n",
        "  for j in range(i):\n",
        "    print(\"*\",end=\"\")\n",
        "  print()\n",
        "for i in range(4,0,-1):\n",
        "  for j in range(i):\n",
        "    print(\"*\",end=\"\")\n",
        "  print()"
      ],
      "metadata": {
        "colab": {
          "base_uri": "https://localhost:8080/"
        },
        "id": "HTSE9dY1rQeD",
        "outputId": "ddf95961-4a93-4bb1-d9e2-7be075ef37a3"
      },
      "execution_count": 20,
      "outputs": [
        {
          "output_type": "stream",
          "name": "stdout",
          "text": [
            "*\n",
            "**\n",
            "***\n",
            "****\n",
            "*****\n",
            "****\n",
            "***\n",
            "**\n",
            "*\n"
          ]
        }
      ]
    },
    {
      "cell_type": "code",
      "source": [],
      "metadata": {
        "id": "OLX4CM74sfj6"
      },
      "execution_count": 20,
      "outputs": []
    }
  ]
}